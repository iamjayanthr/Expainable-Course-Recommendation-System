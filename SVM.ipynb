{
  "nbformat": 4,
  "nbformat_minor": 0,
  "metadata": {
    "colab": {
      "name": "SVM.ipynb",
      "provenance": [],
      "collapsed_sections": []
    },
    "kernelspec": {
      "name": "python3",
      "display_name": "Python 3"
    },
    "language_info": {
      "name": "python"
    }
  },
  "cells": [
    {
      "cell_type": "code",
      "execution_count": null,
      "metadata": {
        "id": "aB-P6L_c5KvD"
      },
      "outputs": [],
      "source": [
        "import pandas as pd\n",
        "from sklearn.svm import SVC\n",
        "from sklearn.model_selection import train_test_split\n",
        "from sklearn import metrics"
      ]
    },
    {
      "cell_type": "code",
      "source": [
        "df=pd.read_csv(\"datanum1.csv\")\n",
        "l=len(df.index)\n",
        "df=df.drop('Timestamp',axis = 1)\n",
        "df=df.drop('Name', axis = 1)\n",
        "df=df.drop('12th Stream',axis = 1)\n",
        "sub=['CIVIL','CSE','ECE','EEE','MECH','BME','CHEM']\n"
      ],
      "metadata": {
        "id": "cI1ykvpO5VFs"
      },
      "execution_count": null,
      "outputs": []
    },
    {
      "cell_type": "code",
      "source": [
        "data={'tenth':[88],'12th':[90],'creative':[3],'writing':[2],'outdoorwork':[1], 'future':[1], 'groupwork':[1],'enjoymost':[1],'enjoyleast':[1],'clubmost':[1],'clubleast':[1],'projectliked':[1],'projectdisliked':[1],'noengineering':[1],'drawing':[1],'futurejob':[2],'interest':[3],'Opted':[0],'satisfied':[0]}\n",
        "df1=pd.DataFrame(data)\n",
        "df1['index']=l;\n",
        "l=l+1\n",
        "df=df.append(df1,ignore_index=True)\n",
        "df=df.fillna(0)\n",
        "df.tail(3)\n"
      ],
      "metadata": {
        "colab": {
          "base_uri": "https://localhost:8080/",
          "height": 207
        },
        "id": "-wGBlr1N8A9u",
        "outputId": "619c82ee-c1a6-43cb-a8f8-6c2f8f3c190d"
      },
      "execution_count": null,
      "outputs": [
        {
          "output_type": "execute_result",
          "data": {
            "text/plain": [
              "      tenth  12th  creative  writing  outdoorwork  future  groupwork  \\\n",
              "1063   88.0  85.0         2        2            1       4          1   \n",
              "1064   89.0  87.0         1        1            1       4          1   \n",
              "1065   88.0  90.0         3        2            1       1          1   \n",
              "\n",
              "      enjoymost  enjoyleast  clubmost  clubleast  projectliked  \\\n",
              "1063         10           9         8          3             5   \n",
              "1064         10           2         2          1             6   \n",
              "1065          1           1         1          1             1   \n",
              "\n",
              "      projectdisliked  noengineering  drawing  futurejob  interest  Opted  \\\n",
              "1063                1             13        2          3         4      4   \n",
              "1064                3              1        2          3         5      5   \n",
              "1065                1              1        1          2         3      0   \n",
              "\n",
              "      satisfied  index  \n",
              "1063          1   1063  \n",
              "1064          1   1064  \n",
              "1065          0   1065  "
            ],
            "text/html": [
              "\n",
              "  <div id=\"df-09d22f5b-4fd4-4d22-b194-7c11f530cf19\">\n",
              "    <div class=\"colab-df-container\">\n",
              "      <div>\n",
              "<style scoped>\n",
              "    .dataframe tbody tr th:only-of-type {\n",
              "        vertical-align: middle;\n",
              "    }\n",
              "\n",
              "    .dataframe tbody tr th {\n",
              "        vertical-align: top;\n",
              "    }\n",
              "\n",
              "    .dataframe thead th {\n",
              "        text-align: right;\n",
              "    }\n",
              "</style>\n",
              "<table border=\"1\" class=\"dataframe\">\n",
              "  <thead>\n",
              "    <tr style=\"text-align: right;\">\n",
              "      <th></th>\n",
              "      <th>tenth</th>\n",
              "      <th>12th</th>\n",
              "      <th>creative</th>\n",
              "      <th>writing</th>\n",
              "      <th>outdoorwork</th>\n",
              "      <th>future</th>\n",
              "      <th>groupwork</th>\n",
              "      <th>enjoymost</th>\n",
              "      <th>enjoyleast</th>\n",
              "      <th>clubmost</th>\n",
              "      <th>clubleast</th>\n",
              "      <th>projectliked</th>\n",
              "      <th>projectdisliked</th>\n",
              "      <th>noengineering</th>\n",
              "      <th>drawing</th>\n",
              "      <th>futurejob</th>\n",
              "      <th>interest</th>\n",
              "      <th>Opted</th>\n",
              "      <th>satisfied</th>\n",
              "      <th>index</th>\n",
              "    </tr>\n",
              "  </thead>\n",
              "  <tbody>\n",
              "    <tr>\n",
              "      <th>1063</th>\n",
              "      <td>88.0</td>\n",
              "      <td>85.0</td>\n",
              "      <td>2</td>\n",
              "      <td>2</td>\n",
              "      <td>1</td>\n",
              "      <td>4</td>\n",
              "      <td>1</td>\n",
              "      <td>10</td>\n",
              "      <td>9</td>\n",
              "      <td>8</td>\n",
              "      <td>3</td>\n",
              "      <td>5</td>\n",
              "      <td>1</td>\n",
              "      <td>13</td>\n",
              "      <td>2</td>\n",
              "      <td>3</td>\n",
              "      <td>4</td>\n",
              "      <td>4</td>\n",
              "      <td>1</td>\n",
              "      <td>1063</td>\n",
              "    </tr>\n",
              "    <tr>\n",
              "      <th>1064</th>\n",
              "      <td>89.0</td>\n",
              "      <td>87.0</td>\n",
              "      <td>1</td>\n",
              "      <td>1</td>\n",
              "      <td>1</td>\n",
              "      <td>4</td>\n",
              "      <td>1</td>\n",
              "      <td>10</td>\n",
              "      <td>2</td>\n",
              "      <td>2</td>\n",
              "      <td>1</td>\n",
              "      <td>6</td>\n",
              "      <td>3</td>\n",
              "      <td>1</td>\n",
              "      <td>2</td>\n",
              "      <td>3</td>\n",
              "      <td>5</td>\n",
              "      <td>5</td>\n",
              "      <td>1</td>\n",
              "      <td>1064</td>\n",
              "    </tr>\n",
              "    <tr>\n",
              "      <th>1065</th>\n",
              "      <td>88.0</td>\n",
              "      <td>90.0</td>\n",
              "      <td>3</td>\n",
              "      <td>2</td>\n",
              "      <td>1</td>\n",
              "      <td>1</td>\n",
              "      <td>1</td>\n",
              "      <td>1</td>\n",
              "      <td>1</td>\n",
              "      <td>1</td>\n",
              "      <td>1</td>\n",
              "      <td>1</td>\n",
              "      <td>1</td>\n",
              "      <td>1</td>\n",
              "      <td>1</td>\n",
              "      <td>2</td>\n",
              "      <td>3</td>\n",
              "      <td>0</td>\n",
              "      <td>0</td>\n",
              "      <td>1065</td>\n",
              "    </tr>\n",
              "  </tbody>\n",
              "</table>\n",
              "</div>\n",
              "      <button class=\"colab-df-convert\" onclick=\"convertToInteractive('df-09d22f5b-4fd4-4d22-b194-7c11f530cf19')\"\n",
              "              title=\"Convert this dataframe to an interactive table.\"\n",
              "              style=\"display:none;\">\n",
              "        \n",
              "  <svg xmlns=\"http://www.w3.org/2000/svg\" height=\"24px\"viewBox=\"0 0 24 24\"\n",
              "       width=\"24px\">\n",
              "    <path d=\"M0 0h24v24H0V0z\" fill=\"none\"/>\n",
              "    <path d=\"M18.56 5.44l.94 2.06.94-2.06 2.06-.94-2.06-.94-.94-2.06-.94 2.06-2.06.94zm-11 1L8.5 8.5l.94-2.06 2.06-.94-2.06-.94L8.5 2.5l-.94 2.06-2.06.94zm10 10l.94 2.06.94-2.06 2.06-.94-2.06-.94-.94-2.06-.94 2.06-2.06.94z\"/><path d=\"M17.41 7.96l-1.37-1.37c-.4-.4-.92-.59-1.43-.59-.52 0-1.04.2-1.43.59L10.3 9.45l-7.72 7.72c-.78.78-.78 2.05 0 2.83L4 21.41c.39.39.9.59 1.41.59.51 0 1.02-.2 1.41-.59l7.78-7.78 2.81-2.81c.8-.78.8-2.07 0-2.86zM5.41 20L4 18.59l7.72-7.72 1.47 1.35L5.41 20z\"/>\n",
              "  </svg>\n",
              "      </button>\n",
              "      \n",
              "  <style>\n",
              "    .colab-df-container {\n",
              "      display:flex;\n",
              "      flex-wrap:wrap;\n",
              "      gap: 12px;\n",
              "    }\n",
              "\n",
              "    .colab-df-convert {\n",
              "      background-color: #E8F0FE;\n",
              "      border: none;\n",
              "      border-radius: 50%;\n",
              "      cursor: pointer;\n",
              "      display: none;\n",
              "      fill: #1967D2;\n",
              "      height: 32px;\n",
              "      padding: 0 0 0 0;\n",
              "      width: 32px;\n",
              "    }\n",
              "\n",
              "    .colab-df-convert:hover {\n",
              "      background-color: #E2EBFA;\n",
              "      box-shadow: 0px 1px 2px rgba(60, 64, 67, 0.3), 0px 1px 3px 1px rgba(60, 64, 67, 0.15);\n",
              "      fill: #174EA6;\n",
              "    }\n",
              "\n",
              "    [theme=dark] .colab-df-convert {\n",
              "      background-color: #3B4455;\n",
              "      fill: #D2E3FC;\n",
              "    }\n",
              "\n",
              "    [theme=dark] .colab-df-convert:hover {\n",
              "      background-color: #434B5C;\n",
              "      box-shadow: 0px 1px 3px 1px rgba(0, 0, 0, 0.15);\n",
              "      filter: drop-shadow(0px 1px 2px rgba(0, 0, 0, 0.3));\n",
              "      fill: #FFFFFF;\n",
              "    }\n",
              "  </style>\n",
              "\n",
              "      <script>\n",
              "        const buttonEl =\n",
              "          document.querySelector('#df-09d22f5b-4fd4-4d22-b194-7c11f530cf19 button.colab-df-convert');\n",
              "        buttonEl.style.display =\n",
              "          google.colab.kernel.accessAllowed ? 'block' : 'none';\n",
              "\n",
              "        async function convertToInteractive(key) {\n",
              "          const element = document.querySelector('#df-09d22f5b-4fd4-4d22-b194-7c11f530cf19');\n",
              "          const dataTable =\n",
              "            await google.colab.kernel.invokeFunction('convertToInteractive',\n",
              "                                                     [key], {});\n",
              "          if (!dataTable) return;\n",
              "\n",
              "          const docLinkHtml = 'Like what you see? Visit the ' +\n",
              "            '<a target=\"_blank\" href=https://colab.research.google.com/notebooks/data_table.ipynb>data table notebook</a>'\n",
              "            + ' to learn more about interactive tables.';\n",
              "          element.innerHTML = '';\n",
              "          dataTable['output_type'] = 'display_data';\n",
              "          await google.colab.output.renderOutput(dataTable, element);\n",
              "          const docLink = document.createElement('div');\n",
              "          docLink.innerHTML = docLinkHtml;\n",
              "          element.appendChild(docLink);\n",
              "        }\n",
              "      </script>\n",
              "    </div>\n",
              "  </div>\n",
              "  "
            ]
          },
          "metadata": {},
          "execution_count": 3
        }
      ]
    },
    {
      "cell_type": "code",
      "source": [
        "\n",
        "X_train, X_test, y_train, y_test = train_test_split(\n",
        "\tdf, df['Opted'], test_size = 0.4)\n",
        "print(\"Actual Output :\",y_test)"
      ],
      "metadata": {
        "colab": {
          "base_uri": "https://localhost:8080/"
        },
        "id": "lknxmIBG5n9V",
        "outputId": "d3ac1921-a709-4d5a-c514-b59ad91b2cfa"
      },
      "execution_count": null,
      "outputs": [
        {
          "output_type": "stream",
          "name": "stdout",
          "text": [
            "Actual Output : 1052    3\n",
            "749     2\n",
            "529     4\n",
            "139     1\n",
            "124     3\n",
            "       ..\n",
            "598     5\n",
            "312     2\n",
            "612     2\n",
            "147     1\n",
            "655     1\n",
            "Name: Opted, Length: 427, dtype: int64\n"
          ]
        }
      ]
    },
    {
      "cell_type": "code",
      "source": [
        "svc_model = SVC(C=0.1, kernel='poly', degree=3, gamma='auto', coef0=0.0, shrinking=True, probability=False,tol=0.001, cache_size=200, class_weight=None, verbose=False, max_iter=-1, random_state=None)\n",
        "svc_model.fit(X_train, y_train)\n",
        "prediction = svc_model.predict(X_test)\n",
        "print(\"Predicted Value:\",prediction)"
      ],
      "metadata": {
        "id": "zVUHo6NP5rKQ",
        "colab": {
          "base_uri": "https://localhost:8080/"
        },
        "outputId": "513da69c-684f-4168-8ea9-1c9fdeb1bfdc"
      },
      "execution_count": null,
      "outputs": [
        {
          "output_type": "stream",
          "name": "stdout",
          "text": [
            "Predicted Value: [2 2 4 1 3 4 1 2 1 4 1 2 2 1 6 2 3 2 1 2 4 6 5 5 2 2 3 1 2 2 2 5 4 2 3 2 2\n",
            " 2 1 5 1 1 2 1 2 3 2 2 1 2 2 1 2 2 2 4 2 4 2 2 1 5 2 4 2 2 1 3 2 4 2 1 2 5\n",
            " 2 4 2 2 5 2 3 3 2 4 3 3 4 2 2 1 4 4 2 1 2 5 4 3 2 1 5 4 1 1 5 2 5 2 1 2 5\n",
            " 1 2 3 2 4 1 4 3 2 2 2 3 5 4 2 5 4 3 3 4 5 1 4 2 4 5 4 1 4 2 1 2 2 3 1 4 3\n",
            " 2 2 2 1 4 2 1 3 2 2 2 3 4 5 2 5 1 2 2 1 6 1 1 2 5 1 1 2 1 4 1 0 2 6 1 3 4\n",
            " 2 6 4 1 2 1 2 4 1 2 5 1 2 2 4 5 2 4 2 1 3 2 5 2 5 4 3 5 2 1 3 5 4 3 1 4 4\n",
            " 1 4 0 1 1 2 5 1 2 2 2 2 4 5 5 2 4 2 2 2 2 4 4 1 5 2 2 5 1 6 1 1 1 2 2 1 3\n",
            " 3 4 1 1 2 3 2 2 5 3 2 5 1 2 2 1 2 2 5 3 4 2 4 5 1 1 1 1 4 1 2 1 1 4 4 1 4\n",
            " 2 1 4 3 2 1 3 1 5 5 3 5 4 2 3 2 2 5 2 1 1 5 5 1 2 5 3 1 2 4 2 2 5 2 1 2 2\n",
            " 2 1 5 2 4 5 2 1 4 6 2 2 2 2 5 2 1 2 1 5 2 2 5 3 3 3 3 3 2 4 2 2 4 4 6 3 2\n",
            " 5 4 1 4 4 4 2 4 4 5 4 3 1 1 5 5 2 1 4 1 3 2 2 1 2 2 6 2 5 3 1 3 3 2 4 5 5\n",
            " 5 1 2 4 4 1 5 1 1 3 3 5 1 2 5 5 2 2 1 1]\n"
          ]
        }
      ]
    },
    {
      "cell_type": "code",
      "source": [
        "acc = metrics.accuracy_score(y_test, prediction)\n",
        "p = svc_model.predict(df1)\n",
        "print(\"Recommended Course: \",p+1)\n",
        "print(\"Accuracy:\",acc)"
      ],
      "metadata": {
        "id": "mAYcd7jv5wRD",
        "colab": {
          "base_uri": "https://localhost:8080/"
        },
        "outputId": "a6e005c4-6445-4bed-d7cd-ec69f8da9492"
      },
      "execution_count": null,
      "outputs": [
        {
          "output_type": "stream",
          "name": "stdout",
          "text": [
            "Recommended Course:  [1]\n",
            "Accuracy: 0.8852459016393442\n"
          ]
        }
      ]
    },
    {
      "cell_type": "code",
      "source": [
        "# Save machine learning model\n",
        "import pickle\n",
        "filename = 'finalized_model.sav'\n",
        "pickle.dump(svc_model, open(filename, 'wb'))"
      ],
      "metadata": {
        "id": "PSh-nFfsDfu3"
      },
      "execution_count": null,
      "outputs": []
    },
    {
      "cell_type": "code",
      "source": [
        "print(metrics.mean_squared_error(y_test, prediction))"
      ],
      "metadata": {
        "id": "o_3ZeEiB6E3l",
        "colab": {
          "base_uri": "https://localhost:8080/"
        },
        "outputId": "549086d9-f265-462d-e440-3391f7f00d3c"
      },
      "execution_count": null,
      "outputs": [
        {
          "output_type": "stream",
          "name": "stdout",
          "text": [
            "0.28337236533957844\n"
          ]
        }
      ]
    }
  ]
}