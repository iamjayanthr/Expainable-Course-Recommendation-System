{
  "cells": [
    {
      "cell_type": "code",
      "execution_count": 1,
      "metadata": {
        "id": "aB-P6L_c5KvD"
      },
      "outputs": [],
      "source": [
        "import pandas as pd\n",
        "from sklearn.svm import SVC\n",
        "from sklearn.preprocessing import LabelEncoder\n",
        "from sklearn.model_selection import train_test_split\n",
        "from sklearn import metrics\n",
        "import sklearn.ensemble\n",
        "import sklearn.metrics\n",
        "from __future__ import print_function\n",
        "import lime\n",
        "import lime.lime_tabular\n",
        "import dill"
      ]
    },
    {
      "cell_type": "code",
      "execution_count": 60,
      "metadata": {
        "id": "cI1ykvpO5VFs"
      },
      "outputs": [
        {
          "data": {
            "text/html": [
              "<div>\n",
              "<style scoped>\n",
              "    .dataframe tbody tr th:only-of-type {\n",
              "        vertical-align: middle;\n",
              "    }\n",
              "\n",
              "    .dataframe tbody tr th {\n",
              "        vertical-align: top;\n",
              "    }\n",
              "\n",
              "    .dataframe thead th {\n",
              "        text-align: right;\n",
              "    }\n",
              "</style>\n",
              "<table border=\"1\" class=\"dataframe\">\n",
              "  <thead>\n",
              "    <tr style=\"text-align: right;\">\n",
              "      <th></th>\n",
              "      <th>creative</th>\n",
              "      <th>writing</th>\n",
              "      <th>outdoorwork</th>\n",
              "      <th>future</th>\n",
              "      <th>groupwork</th>\n",
              "      <th>enjoymost</th>\n",
              "      <th>enjoyleast</th>\n",
              "      <th>clubmost</th>\n",
              "      <th>clubleast</th>\n",
              "      <th>projectliked</th>\n",
              "      <th>projectdisliked</th>\n",
              "      <th>noengineering</th>\n",
              "      <th>drawing</th>\n",
              "      <th>futurejob</th>\n",
              "      <th>Opted</th>\n",
              "    </tr>\n",
              "  </thead>\n",
              "  <tbody>\n",
              "    <tr>\n",
              "      <th>2188</th>\n",
              "      <td>I am not creative</td>\n",
              "      <td>Excited! I can share my theories with the world</td>\n",
              "      <td>I love the outdoors and wish I could work outs...</td>\n",
              "      <td>Building things with moving parts</td>\n",
              "      <td>I occasionally like working with others</td>\n",
              "      <td>Biology</td>\n",
              "      <td>Language</td>\n",
              "      <td>Consulting club</td>\n",
              "      <td>Autoshop club</td>\n",
              "      <td>Building the world's most powerful supercomputer</td>\n",
              "      <td>Programming a robot that can make you dinner</td>\n",
              "      <td>Health Studies</td>\n",
              "      <td>I am not the best, but I am not the worst</td>\n",
              "      <td>Health</td>\n",
              "      <td>BME</td>\n",
              "    </tr>\n",
              "    <tr>\n",
              "      <th>1386</th>\n",
              "      <td>I am somewhat creative</td>\n",
              "      <td>Excited! I can share my theories with the world</td>\n",
              "      <td>Working outside would be okay, but only for sh...</td>\n",
              "      <td>Designing buildings</td>\n",
              "      <td>I enjoy working with others</td>\n",
              "      <td>Maths</td>\n",
              "      <td>Social Studies</td>\n",
              "      <td>Art or design club</td>\n",
              "      <td>Robotics club</td>\n",
              "      <td>Designing an Olympic village</td>\n",
              "      <td>Building the world's most powerful supercomputer</td>\n",
              "      <td>Maths</td>\n",
              "      <td>Really good, I can draw just about anything</td>\n",
              "      <td>Construction</td>\n",
              "      <td>CIVIL</td>\n",
              "    </tr>\n",
              "    <tr>\n",
              "      <th>577</th>\n",
              "      <td>I am not creative</td>\n",
              "      <td>A bit apprehensive. I get overwhelmed with so ...</td>\n",
              "      <td>Working outside would be okay, but only for sh...</td>\n",
              "      <td>Building things with moving parts</td>\n",
              "      <td>I enjoy working with others</td>\n",
              "      <td>Maths</td>\n",
              "      <td>Chemistry</td>\n",
              "      <td>Autoshop club</td>\n",
              "      <td>Hacker club</td>\n",
              "      <td>Designing a low power invertor</td>\n",
              "      <td>Optimizing the Uber Pool routes</td>\n",
              "      <td>Maths</td>\n",
              "      <td>I am not the best, but I am not the worst</td>\n",
              "      <td>Manufacturing</td>\n",
              "      <td>MECH</td>\n",
              "    </tr>\n",
              "  </tbody>\n",
              "</table>\n",
              "</div>"
            ],
            "text/plain": [
              "                    creative  \\\n",
              "2188       I am not creative   \n",
              "1386  I am somewhat creative   \n",
              "577        I am not creative   \n",
              "\n",
              "                                                writing  \\\n",
              "2188    Excited! I can share my theories with the world   \n",
              "1386    Excited! I can share my theories with the world   \n",
              "577   A bit apprehensive. I get overwhelmed with so ...   \n",
              "\n",
              "                                            outdoorwork  \\\n",
              "2188  I love the outdoors and wish I could work outs...   \n",
              "1386  Working outside would be okay, but only for sh...   \n",
              "577   Working outside would be okay, but only for sh...   \n",
              "\n",
              "                                 future  \\\n",
              "2188  Building things with moving parts   \n",
              "1386                Designing buildings   \n",
              "577   Building things with moving parts   \n",
              "\n",
              "                                    groupwork enjoymost      enjoyleast  \\\n",
              "2188  I occasionally like working with others   Biology        Language   \n",
              "1386              I enjoy working with others     Maths  Social Studies   \n",
              "577               I enjoy working with others     Maths       Chemistry   \n",
              "\n",
              "                clubmost      clubleast  \\\n",
              "2188     Consulting club  Autoshop club   \n",
              "1386  Art or design club  Robotics club   \n",
              "577        Autoshop club    Hacker club   \n",
              "\n",
              "                                          projectliked  \\\n",
              "2188  Building the world's most powerful supercomputer   \n",
              "1386                      Designing an Olympic village   \n",
              "577                     Designing a low power invertor   \n",
              "\n",
              "                                       projectdisliked   noengineering  \\\n",
              "2188      Programming a robot that can make you dinner  Health Studies   \n",
              "1386  Building the world's most powerful supercomputer           Maths   \n",
              "577                    Optimizing the Uber Pool routes           Maths   \n",
              "\n",
              "                                          drawing      futurejob  Opted  \n",
              "2188    I am not the best, but I am not the worst         Health    BME  \n",
              "1386  Really good, I can draw just about anything   Construction  CIVIL  \n",
              "577     I am not the best, but I am not the worst  Manufacturing   MECH  "
            ]
          },
          "execution_count": 60,
          "metadata": {},
          "output_type": "execute_result"
        }
      ],
      "source": [
        "df=pd.read_csv(\"datasetfinal.csv\")\n",
        "l=len(df.index)\n",
        "df=df.drop('Timestamp',axis = 1)\n",
        "df=df.drop('Name', axis = 1)\n",
        "df=df.drop('satisfied', axis = 1)\n",
        "df=df.drop('12th Stream',axis = 1)\n",
        "df=df.drop('10th',axis = 1)\n",
        "df=df.drop('12th',axis = 1)\n",
        "df=df.drop('interest',axis = 1)\n",
        "df=df.dropna()\n",
        "df.sample(3)"
      ]
    },
    {
      "cell_type": "code",
      "execution_count": 61,
      "metadata": {
        "colab": {
          "base_uri": "https://localhost:8080/",
          "height": 207
        },
        "id": "-wGBlr1N8A9u",
        "outputId": "619c82ee-c1a6-43cb-a8f8-6c2f8f3c190d"
      },
      "outputs": [],
      "source": [
        "le_create=LabelEncoder()\n",
        "le_write=LabelEncoder()\n",
        "le_out=LabelEncoder()\n",
        "le_future=LabelEncoder()\n",
        "le_group=LabelEncoder()\n",
        "le_enjoymost=LabelEncoder()\n",
        "le_enjoyleast=LabelEncoder()\n",
        "le_clubmost=LabelEncoder()\n",
        "le_clubleast=LabelEncoder()\n",
        "le_projectliked=LabelEncoder()\n",
        "le_projectdisliked=LabelEncoder()\n",
        "le_eng=LabelEncoder()\n",
        "le_job=LabelEncoder()\n",
        "le_draw=LabelEncoder()\n",
        "le_opted=LabelEncoder()\n",
        "df[\"creative\"]= le_create.fit_transform(df[\"creative\"])\n",
        "df[\"writing\"]= le_write.fit_transform(df[\"writing\"])\n",
        "df[\"outdoorwork\"]= le_out.fit_transform(df[\"outdoorwork\"])\n",
        "df[\"future\"]= le_future.fit_transform(df[\"future\"])\n",
        "df[\"groupwork\"]= le_group.fit_transform(df[\"groupwork\"])\n",
        "df[\"enjoymost\"]= le_enjoymost.fit_transform(df[\"enjoymost\"])\n",
        "df[\"enjoyleast\"]= le_enjoyleast.fit_transform(df[\"enjoyleast\"])\n",
        "df[\"clubmost\"]= le_clubmost.fit_transform(df[\"clubmost\"])\n",
        "df[\"clubleast\"]= le_clubleast.fit_transform(df[\"clubleast\"])\n",
        "df[\"projectliked\"]= le_projectliked.fit_transform(df[\"projectliked\"])\n",
        "df[\"projectdisliked\"]= le_projectdisliked.fit_transform(df[\"projectdisliked\"])\n",
        "df[\"noengineering\"]= le_eng.fit_transform(df[\"noengineering\"])\n",
        "df[\"futurejob\"]= le_job.fit_transform(df[\"futurejob\"])\n",
        "df[\"drawing\"]= le_draw.fit_transform(df[\"drawing\"])"
      ]
    },
    {
      "cell_type": "code",
      "execution_count": 62,
      "metadata": {
        "colab": {
          "base_uri": "https://localhost:8080/"
        },
        "id": "lknxmIBG5n9V",
        "outputId": "d3ac1921-a709-4d5a-c514-b59ad91b2cfa"
      },
      "outputs": [],
      "source": [
        "feature=df.drop('Opted',axis = 1)\n",
        "target=df[\"Opted\"]\n",
        "X_train, X_test, y_train, y_test = train_test_split(feature,target, test_size = 0.3)"
      ]
    },
    {
      "cell_type": "code",
      "execution_count": 67,
      "metadata": {
        "colab": {
          "base_uri": "https://localhost:8080/"
        },
        "id": "zVUHo6NP5rKQ",
        "outputId": "513da69c-684f-4168-8ea9-1c9fdeb1bfdc"
      },
      "outputs": [],
      "source": [
        "svc_model = SVC(C=100, kernel='poly', degree=3, gamma='auto', probability=True)\n",
        "svc_model.fit(X_train, y_train)\n",
        "prediction = svc_model.predict(X_test)"
      ]
    },
    {
      "cell_type": "code",
      "execution_count": 68,
      "metadata": {
        "colab": {
          "base_uri": "https://localhost:8080/"
        },
        "id": "mAYcd7jv5wRD",
        "outputId": "a6e005c4-6445-4bed-d7cd-ec69f8da9492"
      },
      "outputs": [
        {
          "name": "stdout",
          "output_type": "stream",
          "text": [
            "Accuracy: 0.9958762886597938\n",
            "f1_score: 0.9958762886597938\n",
            "\n",
            "              precision    recall  f1-score   support\n",
            "\n",
            "         BME       0.97      1.00      0.99        39\n",
            "       CIVIL       1.00      1.00      1.00        94\n",
            "         CSE       1.00      0.98      0.99       107\n",
            "         ECE       1.00      1.00      1.00        90\n",
            "         EEE       0.99      1.00      0.99        80\n",
            "        MECH       1.00      1.00      1.00        75\n",
            "\n",
            "    accuracy                           1.00       485\n",
            "   macro avg       0.99      1.00      1.00       485\n",
            "weighted avg       1.00      1.00      1.00       485\n",
            "\n"
          ]
        }
      ],
      "source": [
        "acc = metrics.accuracy_score(y_test, prediction)\n",
        "f1=metrics.f1_score(y_test, prediction,average='micro')\n",
        "print(\"Accuracy:\",acc)\n",
        "print(\"f1_score:\",f1)\n",
        "from sklearn.metrics import classification_report, confusion_matrix, precision_score\n",
        "print(\"\")\n",
        "\n",
        " \n",
        "print(classification_report(y_test, prediction))"
      ]
    },
    {
      "cell_type": "code",
      "execution_count": 57,
      "metadata": {
        "id": "PSh-nFfsDfu3"
      },
      "outputs": [],
      "source": [
        "predict_fn_rf = lambda x: svc_model.predict_proba(x).astype(float)\n",
        "xt = feature.values\n",
        "n=pd.unique(target)\n",
        "explainer = lime.lime_tabular.LimeTabularExplainer(xt,feature_names = X_train.columns,mode=\"classification\",class_names=['BME','CIVIL','CSE','ECE','EEE','MECH'])"
      ]
    },
    {
      "cell_type": "code",
      "execution_count": 58,
      "metadata": {
        "colab": {
          "base_uri": "https://localhost:8080/"
        },
        "id": "o_3ZeEiB6E3l",
        "outputId": "549086d9-f265-462d-e440-3391f7f00d3c"
      },
      "outputs": [],
      "source": [
        "data = {\"model\": svc_model,\"le_create\":le_create,\"exp\":explainer,\"le_write\":le_write,\"le_out\":le_out, \"le_future\": le_future, \"le_group\": le_group,\"le_enjoymost\":le_enjoymost,\"le_enjyleast\":le_enjoyleast,\"le_clubmost\":le_clubmost,\"le_clubleast\":le_clubleast,\"le_projectliked\":le_projectliked,\"le_projectdisliked\":le_projectdisliked,\"le_eng\":le_eng,\"le_job\":le_job,\"le_draw\":le_draw}\n",
        "with open('svc_model1.pkl', 'wb') as file:\n",
        "    dill.dump(data, file)"
      ]
    }
  ],
  "metadata": {
    "colab": {
      "collapsed_sections": [],
      "name": "SVM.ipynb",
      "provenance": []
    },
    "interpreter": {
      "hash": "456e26e2f6def5943ff619da34b94ef794e4d4aff1c7e656539017c58b4941de"
    },
    "kernelspec": {
      "display_name": "Python 3.9.7 ('base')",
      "language": "python",
      "name": "python3"
    },
    "language_info": {
      "codemirror_mode": {
        "name": "ipython",
        "version": 3
      },
      "file_extension": ".py",
      "mimetype": "text/x-python",
      "name": "python",
      "nbconvert_exporter": "python",
      "pygments_lexer": "ipython3",
      "version": "3.9.7"
    }
  },
  "nbformat": 4,
  "nbformat_minor": 0
}
